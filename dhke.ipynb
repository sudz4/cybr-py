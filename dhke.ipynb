{
 "cells": [
  {
   "attachments": {},
   "cell_type": "markdown",
   "metadata": {},
   "source": [
    "| Mini Group Assignment 4.2| Diffie Hellman Key Exchange |\n",
    "| ----------- | ----------- |\n",
    "|USD - CYBR504| March 2023|"
   ]
  },
  {
   "attachments": {},
   "cell_type": "markdown",
   "metadata": {},
   "source": [
    "|4.1.1|\n",
    "|-----|\n",
    "| Hands-on DH |"
   ]
  },
  {
   "cell_type": "code",
   "execution_count": 9,
   "metadata": {},
   "outputs": [],
   "source": [
    "\"\"\"Function to calculate the shared private key (K)\"\"\"\n",
    "\n",
    "# diffie hellman key exchange\n",
    "def diffie_hellman_key_exchange(p, g, a, b):\n",
    "    # pow(base, exp, mod=None)\n",
    "    A = pow(g, a, p) # A = g^a mod p\n",
    "    B = pow(g, b, p) # B = g^b mod p\n",
    "\n",
    "    A_K = pow(B, a, p) # A_K = B^a mod p\n",
    "    B_K = pow(A, b, p) # B_K = A^b mod p\n",
    "\n",
    "    if A_K == B_K:\n",
    "        print(A_K)\n",
    "        print(B_K)\n",
    "        print()\n",
    "        print(f\"Shared private key (K) = {A_K}\")\n",
    "        return A_K\n",
    "    else:\n",
    "        print('ERROR: Shared key not matching')\n",
    "        return None"
   ]
  },
  {
   "cell_type": "code",
   "execution_count": 3,
   "metadata": {},
   "outputs": [
    {
     "name": "stdout",
     "output_type": "stream",
     "text": [
      "371\n",
      "371\n",
      "\n",
      "Shared private key (K) = 371\n"
     ]
    }
   ],
   "source": [
    "# TEAM SUBGROUP 1\n",
    "# INPUTS\n",
    "p = 10937 # prime number\n",
    "g = 7 # primitive root\n",
    "a = 4 # Matt's secret integer\n",
    "b = 5 # Shashwati's secret integer\n",
    "\n",
    "K = diffie_hellman_key_exchange(p, g, a, b)"
   ]
  },
  {
   "attachments": {},
   "cell_type": "markdown",
   "metadata": {},
   "source": [
    "What value did each of you get for K?\n",
    "* 371\n",
    "\n",
    "What were your p and q?\n",
    "* p = 10937\n",
    "* q = 7\n",
    "\n",
    "What were your secret integers?\n",
    "* 4 & 5"
   ]
  },
  {
   "cell_type": "code",
   "execution_count": 4,
   "metadata": {},
   "outputs": [
    {
     "name": "stdout",
     "output_type": "stream",
     "text": [
      "2981\n",
      "2981\n",
      "\n",
      "Shared private key (K) = 2981\n"
     ]
    }
   ],
   "source": [
    "# TEAM SUBGROUP 2\n",
    "# INPUTS\n",
    "p = 10139 # prime number\n",
    "g = 8 # primitive root\n",
    "a = 5 # Connor's secret integer\n",
    "b = 3 # Jerry's secret integer\n",
    "\n",
    "K = diffie_hellman_key_exchange(p, g, a, b)"
   ]
  },
  {
   "attachments": {},
   "cell_type": "markdown",
   "metadata": {},
   "source": [
    "What value did each of you get for K?\n",
    "* 2981\n",
    "\n",
    "What were your p and q?\n",
    "* p = 10139\n",
    "* q = 8\n",
    "\n",
    "What were your secret integers?\n",
    "* 5 & 3"
   ]
  },
  {
   "attachments": {},
   "cell_type": "markdown",
   "metadata": {},
   "source": [
    "| 4.1.2 |\n",
    "|-------|\n",
    "\n",
    "Assume Alice and Bob agreed on p=53, g=8.\n",
    "Alice and Bob select secret integers, a and b.\n",
    "Alice sent the value 48 to Bob.\n",
    "Bob sent the value 35 to Alice."
   ]
  },
  {
   "cell_type": "code",
   "execution_count": 8,
   "metadata": {},
   "outputs": [
    {
     "name": "stdout",
     "output_type": "stream",
     "text": [
      "10\n",
      "10\n",
      "\n",
      "Shared private key (K) = 10\n"
     ]
    }
   ],
   "source": [
    "# Alice & Bob\n",
    "# INPUTS\n",
    "p = 53 # prime number\n",
    "g = 8 # primitive root\n",
    "a = 48 # Alice's secret integer\n",
    "b = 35 # Bob's secret integer\n",
    "\n",
    "K = diffie_hellman_key_exchange(p, g, a, b)"
   ]
  },
  {
   "attachments": {},
   "cell_type": "markdown",
   "metadata": {},
   "source": [
    "Could you find K? What was it?\n",
    "* 10\n",
    "\n",
    "You would need to solve: (35^a mod 53 = 48^b mod 53)\n",
    "How did you get your answer?\n",
    "* We developed a function that calculates the shared secret key by implementing Diffie-Hellman's key exchange protocol."
   ]
  }
 ],
 "metadata": {
  "kernelspec": {
   "display_name": "CYBR_PY_venv",
   "language": "python",
   "name": "python3"
  },
  "language_info": {
   "codemirror_mode": {
    "name": "ipython",
    "version": 3
   },
   "file_extension": ".py",
   "mimetype": "text/x-python",
   "name": "python",
   "nbconvert_exporter": "python",
   "pygments_lexer": "ipython3",
   "version": "3.11.1"
  },
  "orig_nbformat": 4
 },
 "nbformat": 4,
 "nbformat_minor": 2
}

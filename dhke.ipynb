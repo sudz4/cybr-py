{
 "cells": [
  {
   "attachments": {},
   "cell_type": "markdown",
   "metadata": {},
   "source": [
    "| Diffie Hellman Key Exchange |\n",
    "| ----------- |"
   ]
  },
  {
   "cell_type": "code",
   "execution_count": 1,
   "metadata": {},
   "outputs": [],
   "source": [
    "# diffie hellman key exchange\n",
    "def diffie_hellman_key_exchange(p, g, a, b):\n",
    "    # pow(base, exp, mod=None)\n",
    "    A = pow(g, a, p) # A = g^a mod p\n",
    "    B = pow(g, b, p) # B = g^b mod p\n",
    "\n",
    "    A_K = pow(B, a, p) # A_K = B^a mod p\n",
    "    B_K = pow(A, b, p) # B_K = A^b mod p\n",
    "\n",
    "    if A_K == B_K:\n",
    "        print(A_K)\n",
    "        print(B_K)\n",
    "        print()\n",
    "        print(f\"Shared private key (K) = {A_K}\")\n",
    "        return A_K\n",
    "    else:\n",
    "        print('ERROR: Shared key not matching')\n",
    "        return None"
   ]
  },
  {
   "cell_type": "code",
   "execution_count": 2,
   "metadata": {},
   "outputs": [
    {
     "name": "stdout",
     "output_type": "stream",
     "text": [
      "6134\n",
      "6134\n",
      "\n",
      "Shared private key (K) = 6134\n"
     ]
    }
   ],
   "source": [
    "# INPUTS\n",
    "p = 14447 # prime number\n",
    "g = 44 # primitive root\n",
    "a = 4 # Alice's secret integer\n",
    "b = 3 # Bob's secret integer\n",
    "\n",
    "K = diffie_hellman_key_exchange(p, g, a, b)"
   ]
  }
 ],
 "metadata": {
  "kernelspec": {
   "display_name": "CYBR_PY_venv",
   "language": "python",
   "name": "python3"
  },
  "language_info": {
   "codemirror_mode": {
    "name": "ipython",
    "version": 3
   },
   "file_extension": ".py",
   "mimetype": "text/x-python",
   "name": "python",
   "nbconvert_exporter": "python",
   "pygments_lexer": "ipython3",
   "version": "3.11.1"
  },
  "orig_nbformat": 4
 },
 "nbformat": 4,
 "nbformat_minor": 2
}
